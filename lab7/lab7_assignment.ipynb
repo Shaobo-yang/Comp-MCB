{
 "cells": [
  {
   "cell_type": "markdown",
   "metadata": {},
   "source": [
    "## Produce random sequence\n",
    "\n",
    "### Binary sequence"
   ]
  },
  {
   "cell_type": "code",
   "execution_count": 2,
   "metadata": {},
   "outputs": [],
   "source": [
    "import numpy as np"
   ]
  },
  {
   "cell_type": "code",
   "execution_count": 2,
   "metadata": {},
   "outputs": [
    {
     "data": {
      "text/plain": [
       "100000000"
      ]
     },
     "execution_count": 2,
     "metadata": {},
     "output_type": "execute_result"
    }
   ],
   "source": [
    "myvar = np.random.choice([0, 1], size=800000000, replace=True, p=[0.5, 0.5])\n",
    "myvar = np.packbits(myvar)\n",
    "zeros_50p = myvar\n",
    "open(\"zeros_50p\", \"wb\").write(zeros_50p)"
   ]
  },
  {
   "cell_type": "code",
   "execution_count": 3,
   "metadata": {},
   "outputs": [
    {
     "data": {
      "text/plain": [
       "100000000"
      ]
     },
     "execution_count": 3,
     "metadata": {},
     "output_type": "execute_result"
    }
   ],
   "source": [
    "myvar = np.random.choice([0, 1], size=800000000, replace=True, p=[0.6, 0.4])\n",
    "myvar = np.packbits(myvar)\n",
    "zeros_60p = myvar\n",
    "open(\"zeros_60p\", \"wb\").write(zeros_60p)"
   ]
  },
  {
   "cell_type": "code",
   "execution_count": 4,
   "metadata": {},
   "outputs": [
    {
     "data": {
      "text/plain": [
       "100000000"
      ]
     },
     "execution_count": 4,
     "metadata": {},
     "output_type": "execute_result"
    }
   ],
   "source": [
    "myvar = np.random.choice([0, 1], size=800000000, replace=True, p=[0.7, 0.3])\n",
    "myvar = np.packbits(myvar)\n",
    "zeros_70p = myvar\n",
    "open(\"zeros_70p\", \"wb\").write(zeros_70p)"
   ]
  },
  {
   "cell_type": "code",
   "execution_count": 5,
   "metadata": {},
   "outputs": [
    {
     "data": {
      "text/plain": [
       "100000000"
      ]
     },
     "execution_count": 5,
     "metadata": {},
     "output_type": "execute_result"
    }
   ],
   "source": [
    "myvar = np.random.choice([0, 1], size=800000000, replace=True, p=[0.8, 0.2])\n",
    "myvar = np.packbits(myvar)\n",
    "zeros_80p = myvar\n",
    "open(\"zeros_80p\", \"wb\").write(zeros_80p)"
   ]
  },
  {
   "cell_type": "code",
   "execution_count": 6,
   "metadata": {},
   "outputs": [
    {
     "data": {
      "text/plain": [
       "100000000"
      ]
     },
     "execution_count": 6,
     "metadata": {},
     "output_type": "execute_result"
    }
   ],
   "source": [
    "myvar = np.random.choice([0, 1], size=800000000, replace=True, p=[0.9, 0.1])\n",
    "myvar = np.packbits(myvar)\n",
    "zeros_90p = myvar\n",
    "open(\"zeros_90p\", \"wb\").write(zeros_90p)"
   ]
  },
  {
   "cell_type": "code",
   "execution_count": 7,
   "metadata": {},
   "outputs": [
    {
     "data": {
      "text/plain": [
       "100000000"
      ]
     },
     "execution_count": 7,
     "metadata": {},
     "output_type": "execute_result"
    }
   ],
   "source": [
    "myvar = np.random.choice([0, 1], size=800000000, replace=True, p=[1.0, 0])\n",
    "myvar = np.packbits(myvar)\n",
    "zeros_100p = myvar\n",
    "open(\"zeros_100p\", \"wb\").write(zeros_100p)"
   ]
  },
  {
   "cell_type": "markdown",
   "metadata": {},
   "source": [
    "### Produce nucletide sequence"
   ]
  },
  {
   "cell_type": "code",
   "execution_count": 8,
   "metadata": {},
   "outputs": [],
   "source": [
    "myvar = np.random.choice(['A','T','C','G'],size = 100000000, replace = True, p = [0.25,0.25,0.25,0.25])\n",
    "#myvar = np.packbits(myvar)\n",
    "my_nt_seq = myvar"
   ]
  },
  {
   "cell_type": "code",
   "execution_count": 9,
   "metadata": {},
   "outputs": [
    {
     "data": {
      "text/plain": [
       "100000000"
      ]
     },
     "execution_count": 9,
     "metadata": {},
     "output_type": "execute_result"
    }
   ],
   "source": [
    "open(\"nt_seq.fa\", \"w\").write(\"\".join(my_nt_seq))"
   ]
  },
  {
   "cell_type": "markdown",
   "metadata": {},
   "source": [
    "### Produce amino acid\n",
    "aa_abbreviation:ACDEFGHIKLMNPQRSTVWY"
   ]
  },
  {
   "cell_type": "code",
   "execution_count": 4,
   "metadata": {},
   "outputs": [
    {
     "data": {
      "text/plain": [
       "100000000"
      ]
     },
     "execution_count": 4,
     "metadata": {},
     "output_type": "execute_result"
    }
   ],
   "source": [
    "myvar = np.random.choice(['A','C','D','E','F','G','H','I','K','L','M','N','P','Q','R','S','T','V','W','Y'],size = 100000000, replace = True, p = [0.05,0.05,0.05,0.05,0.05,0.05,0.05,0.05,0.05,0.05,0.05,0.05,0.05,0.05,0.05,0.05,0.05,0.05,0.05,0.05])\n",
    "#myvar = np.packbits(myvar)\n",
    "my_aa_seq = myvar\n",
    "open(\"aa_seq.fa\", \"w\").write(\"\".join(my_aa_seq))"
   ]
  },
  {
   "cell_type": "markdown",
   "metadata": {},
   "source": [
    "time gzip –c zeros_100p> zeros_100p.gz\n",
    "\n",
    "real    0m0.592s\n",
    "user    0m0.551s\n",
    "sys     0m0.040s\n",
    "97.1kb\n",
    "\n",
    "time bzip2 –k zeros_100p > zeros_100p.bz\n",
    "\n",
    "real    0m0.880s\n",
    "user    0m0.852s\n",
    "sys     0m0.028s\n",
    "113B\n",
    "\n",
    "time pbzip2 –k zeros_100p > zeros_100p.bz\n",
    "\n",
    "real    0m0.152s\n",
    "user    0m1.770s\n",
    "sys     0m0.058s\n",
    "5.83kB\n",
    "\n",
    "\n",
    "time gzip –c zeros_90p> zeros_90p.gz\n",
    "\n",
    "real    0m26.419s\n",
    "user    0m26.370s\n",
    "sys     0m0.048s\n",
    "56MB\n",
    "\n",
    "time bzip2 –k zeros_90p > zeros_90.bz\n",
    "\n",
    "real    0m9.818s\n",
    "user    0m9.749s\n",
    "sys     0m0.068s\n",
    "58.3MB\n",
    "\n",
    "time pbzip2 –k zeros_90p > zeros_90p.bz\n",
    "\n",
    "real    0m1.109s\n",
    "user    0m14.918s\n",
    "sys     0m0.506s\n",
    "58.3MB\n",
    "\n",
    "\n",
    "time gzip –c zeros_80p> zeros_80p.gz\n",
    "\n",
    "real    0m17.031s\n",
    "user    0m16.938s\n",
    "sys     0m0.092s\n",
    "77.4MB\n",
    "\n",
    "time bzip2 –k zeros_80p > zeros_80.bz\n",
    "\n",
    "real    0m10.391s\n",
    "user    0m10.302s\n",
    "sys     0m0.088s\n",
    "82.6MB\n",
    "\n",
    "time pbzip2 –k zeros_80p > zeros_80p.bz\n",
    "\n",
    "real    0m1.287s\n",
    "user    0m17.523s\n",
    "sys     0m0.519s\n",
    "82.6MB\n",
    "\n",
    "time gzip –c zeros_70p> zeros_70p.gz\n",
    "\n",
    "real    0m6.972s\n",
    "user    0m6.908s\n",
    "sys     0m0.064s\n",
    "89.3MB\n",
    "\n",
    "time bzip2 –k zeros_70p > zeros_70.bz\n",
    "\n",
    "real    0m11.107s\n",
    "user    0m11.014s\n",
    "sys     0m0.092s\n",
    "95.1MB\n",
    "\n",
    "time pbzip2 –k zeros_70p > zeros_70p.bz\n",
    "\n",
    "real    0m1.492s\n",
    "user    0m20.582s\n",
    "sys     0m0.565s\n",
    "95.1MB\n",
    "\n",
    "time gzip –c zeros_60p> zeros_60p.gz\n",
    "\n",
    "real    0m4.324s\n",
    "user    0m4.243s\n",
    "sys     0m0.080s\n",
    "97.7MB\n",
    "\n",
    "time bzip2 –k zeros_60p > zeros_60.bz\n",
    "\n",
    "real    0m12.259s\n",
    "user    0m12.152s\n",
    "sys     0m0.104s\n",
    "100MB\n",
    "\n",
    "time pbzip2 –k zeros_60p > zeros_60p.bz\n",
    "\n",
    "real    0m1.757s\n",
    "user    0m24.605s\n",
    "sys     0m0.533s\n",
    "100MB\n",
    "\n",
    "time gzip –c zeros_50p> zeros_50p.gz\n",
    "\n",
    "real    0m3.499s\n",
    "user    0m3.415s\n",
    "sys     0m0.084s\n",
    "100MB\n",
    "\n",
    "time bzip2 –k zeros_50p > zeros_50.bz\n",
    "\n",
    "real    0m12.972s\n",
    "user    0m12.836s\n",
    "sys     0m0.136s\n",
    "100MB\n",
    "\n",
    "time pbzip2 –k zeros_50p > zeros_50p.bz\n",
    "\n",
    "real    0m1.910s\n",
    "user    0m26.561s\n",
    "sys     0m0.462s\n",
    "100MB\n",
    "\n",
    "time gzip –c nt_seq.fa > nt_seq.gz\n",
    "\n",
    "real    0m23.674s\n",
    "user    0m23.598s\n",
    "sys     0m0.028s\n",
    "29.2MB\n",
    "\n",
    "time bzip2 –k nt_seq.fa > nt_seq.bz\n",
    "\n",
    "real    0m9.535s\n",
    "user    0m9.494s\n",
    "sys     0m0.040s\n",
    "27.3MB\n",
    "\n",
    "time pbzip2 –k nt_seq.fa > nt_seq.bz\n",
    "\n",
    "real    0m1.075s\n",
    "user    0m14.300s\n",
    "sys     0m0.484s\n",
    "27.3MB\n",
    "\n",
    "time gzip –c aa_seq.fa > aa_seq.gz\n",
    "\n",
    "real    0m4.351s\n",
    "user    0m4.303s\n",
    "sys     0m0.048s\n",
    "60.6MB\n",
    "\n",
    "time bzip2 –k aa_seq.fa > aa_seq.bz\n",
    "\n",
    "real    0m9.643s\n",
    "user    0m9.571s\n",
    "sys     0m0.072s\n",
    "55.3MB\n",
    "\n",
    "time pbzip2 –k aa_seq.fa > aa_seq.bz\n",
    "\n",
    "real    0m1.119s\n",
    "user    0m14.804s\n",
    "sys     0m0.480s\n",
    "55.3MB\n"
   ]
  },
  {
   "cell_type": "markdown",
   "metadata": {},
   "source": [
    "Which\talgorithm\tachieves\tthe\tbest\tlevel\tof\tcompression\ton\teach\tfile\ttype?\t\n",
    "\n",
    "**Binary Files: gzip is better except files full of zero;**\n",
    "**Biological Sequence: bzip & pbzip performs better.**\n",
    "\n",
    "Which\talgorithm\tis\tthe\tfastest?\t\n",
    "\n",
    "**Pbzip.**\n",
    "\n",
    "What is\tthe\tdifference between\tbzip2 and pbzip2?\tDo\tyou\texpect\tone\tto\tbe\tfaster\tand\twhy?\n",
    "\n",
    "**According to the result, they have no significant difference in size but pbzip2 is faster. From the discussion in the Internet,pbzip2 can be decompressed with either a single-threaded or a parallelized utility.**\n",
    "\n",
    "How\tdoes\tthe\tlevel\tof\tcompression\tchange\tas\tthe\tpercentage\tof\tzeros\tincreases?\tWhy\tdoes\tthis\t\n",
    "happen?\n",
    "\n",
    "**The level is getting higher as zeros increases. According to the Shannon Entropy, we can prove it using Basic inequality**\n",
    "\n",
    "What\tis\tthe\tminimum\tnumber\tof\tbits\trequired\tto\tstore\ta\tsingle\tDNA\tbase?\t\n",
    "\n",
    "**2 bits**\n",
    "\n",
    "What\tis\tthe\tminimum\tnumber\tof\tbits\trequired\tto\tstore\tan\tamino\tacid\tletter?\t\n",
    "\n",
    "**2+log5 bits. Usually 4 bits.**\n",
    "\n",
    "In\tyour\ttests,\thow\tmany\tbits\tdid\tgzip\tand\tbzip2\tactually\trequire\tto\tstore\tyour\trandom\tDNA\tand\t\n",
    "protein\tsequences?\t\n",
    "\n",
    "**2.336 bits in gzip and 4.048bits in bzip for DNA**\n",
    "**2.184 bits in gzip and 4.424bits in bzip for Protein**\n",
    "\n",
    "Are\tgzip\tand\tbzip2\tperforming\twell\ton\tDNA\tand\tproteins?\t\n",
    "**Better than bzip and bpzip.**"
   ]
  },
  {
   "cell_type": "markdown",
   "metadata": {},
   "source": [
    "## Compressing\treal data"
   ]
  },
  {
   "cell_type": "markdown",
   "metadata": {},
   "source": [
    "https://www.ncbi.nlm.nih.gov/nuccore/?term=gp120 select HIV gp120 homologs.\n",
    "\n",
    "A\tpriori,\tdo\tyou\texpect\tto\tachieve\tbetter\tor\tworse\tcompression\there\tthan\trandom\tdata?\tWhy?\n",
    "**Better, because the AT%/CG% in HIV may not equal to 50%.**\n",
    "**And also homologos is easier to compress.**"
   ]
  },
  {
   "cell_type": "code",
   "execution_count": 26,
   "metadata": {},
   "outputs": [
    {
     "name": "stdout",
     "output_type": "stream",
     "text": [
      "<_io.TextIOWrapper name='sequence.txt' mode='r' encoding='UTF-8'>\n"
     ]
    }
   ],
   "source": [
    "f = open('sequence.txt','r')\n",
    "\n",
    "print(f)"
   ]
  },
  {
   "cell_type": "code",
   "execution_count": 27,
   "metadata": {},
   "outputs": [
    {
     "name": "stdout",
     "output_type": "stream",
     "text": [
      ">lcl|Y14411.1_cds_CAA74754.1_1 [gene=gp120] [db_xref=GOA:O40505,InterPro:IPR000777,UniProtKB/TrEMBL:O40505] [protein_id=CAA74754.1] [location=<1..>325] [gbkey=CDS]\n",
      "\n",
      "GCTTGCAGTCTAGCAGAAGAAGAGGTAGTAATTAGATCTGACAATTTCACGAACAATGCTAAAACCATAA\n",
      "\n",
      "TAGTACAGCTGAATGAATCTGTAGTAATTAATTGTACAAGACCCAACAACAATACAAGAAGAAGTATACC\n",
      "\n",
      "TATAGGACCAGGGAGAGCATTTTATGCAACAGGAGACATAACAGGAGATATAAGACAAGCACATTGTACC\n",
      "\n",
      "CTTAACGGAACACAATGGAATAACACTTTAAAACAGATAGTTATAAAATTAAGAGAACAATTTAAGAATA\n",
      "\n",
      "AAACAATAGTCTTTAGTCCATCATCAGGAGGGGACCCAGAAATTG\n",
      "\n",
      "\n",
      "\n",
      ">lcl|Y14412.1_cds_CAA74755.1_1 [gene=gp120] [db_xref=GOA:O40506,InterPro:IPR000777,UniProtKB/TrEMBL:O40506] [protein_id=CAA74755.1] [location=<1..>325] [gbkey=CDS]\n",
      "\n",
      "AATGGCAGTCTAGCAGAAGGTAATGTAACAATTAGATCTGAAAATATCACAAACAATGCCAAAACCATTA\n",
      "\n",
      "TAGTGCAGCTTACTAAGCCTGTACAAATTAATTGTACCCGACCTAACAACAATACAAGACAAGGTGTACA\n",
      "\n",
      "TATAGGACCAGGACAAGTATTCTATAGAACAGGTGATATAATAGGGGATATAAGAAAGGCACATTGTAAT\n",
      "\n",
      "GTCAGTAGAACAGAGTGGAATAAAACTTTACATCAGGTAGCTACACAATTAAGAAGACACTTTGGGAACA\n",
      "\n",
      "AAACAATAATCTTTACTAACTCCTCAGGAGGGGACCCAGAAATTG\n",
      "\n",
      "\n",
      "\n",
      ">lcl|Y14413.1_cds_CAA74756.1_1 [gene=gp120] [db_xref=GOA:O40507,InterPro:IPR000777,UniProtKB/TrEMBL:O40507] [protein_id=CAA74756.1] [location=<1..>322] [gbkey=CDS]\n",
      "\n",
      "GCTTGCAGTCTAGCAGAAGAAGAGGTAGTAATTAGATCTGATAATTTCACAAACAATGCTAAAATCATAA\n",
      "\n",
      "TAGTACAGCTGAACGCATCAGTAGAAATTAATTGTACAAGACCCAACAACAACACAAGAAAAGGTATACA\n",
      "\n",
      "TATAGGACCAGGAAGAGCATTTTATGCAACAGATATTATAGGAGATATAAGACAAGCATATTGTAACATT\n",
      "\n",
      "TCTAGAAGAGAATGGAATAACACTCTAGAAAAGATAGTTGCAAAATTAAGAGAAACATTTGGGAATAAAA\n",
      "\n",
      "CAATAGCCTTTAAGCCATCCTCAGGAGGGGACCCAGAAATTG\n",
      "\n",
      "\n",
      "\n",
      ">lcl|Y14414.1_cds_CAA74757.1_1 [gene=gp120] [db_xref=GOA:O40508,InterPro:IPR000777,UniProtKB/TrEMBL:O40508] [protein_id=CAA74757.1] [location=<1..>328] [gbkey=CDS]\n",
      "\n",
      "AATGGTAGCCTAGCAGAAGGAGAGATAATAATTAGATCTAAAAATCTGACAGACAATGCCAAAATAATAA\n",
      "\n",
      "TAGTACATCTTAATGAATCTGTAGGAAATGTGTGTACAAGACCCAACAATAATACAAGAAAAAGTATAAG\n",
      "\n",
      "AATAGGACCAGGACAAGCATTTTATGCAAATAATGACATAATAGGGGACATAAGACAAGCACATTGTAAC\n",
      "\n",
      "ATTACTGAAAATGCCTGGAATAAAACTTTACAAATGGTAGGTAAAAAATTAAAAGAGCACTTCCCTAATA\n",
      "\n",
      "AAACAACAATAATATTTGAACCATCCTCAGGAGGGGACCCAGAAATTG\n",
      "\n",
      "\n",
      "\n",
      ">lcl|Y14415.1_cds_CAA74758.1_1 [gene=gp120] [db_xref=GOA:O40509,InterPro:IPR000777,UniProtKB/TrEMBL:O40509] [protein_id=CAA74758.1] [location=<1..>325] [gbkey=CDS]\n",
      "\n",
      "AATGGAAGTCTAGCAGCAGAAAAGGTAATGATCAGATCTGAAAATATCACAGACAATACCAAGAACATAA\n",
      "\n",
      "TAGTACAGCTTAAGACGCCTGTAAACATTACCTGTGCCAGACCCAACAATAACACGAGAAGAAGTATACA\n",
      "\n",
      "TATAGGACCAGGACAAGCATTCTATGCAACAGGTGAGGTAATAGGAGATATAAGACAAGCACATTGTAAT\n",
      "\n",
      "ATTAGTGGAACAAAGTGGAATGCCACTTTACACGAGGTAGTTACACAATTAGGAGAACACCTGAACAAGA\n",
      "\n",
      "GCATAATAGAGTTTAAACCATCCTCAGGAGGGGACCCAGAAATTG\n",
      "\n",
      "\n",
      "\n",
      ">lcl|Y14416.1_cds_CAA74759.1_1 [gene=gp120] [db_xref=GOA:O40510,InterPro:IPR000777,UniProtKB/TrEMBL:O40510] [protein_id=CAA74759.1] [location=<1..>325] [gbkey=CDS]\n",
      "\n",
      "GCTTGCAGTCTAGCAGAAGAAGAGGTAATAATTAGATCTGCCAATTTCTCGAACAATACTAAAACCATAA\n",
      "\n",
      "TAGTACAACTGAATGAATCTGTGGTAATTAATTGTACAAGACCCAACAACAATACAAGAAGAAGTGTAAA\n",
      "\n",
      "TATAGGACCAGGGAGAGCATTTTTTACAACAGGAGATATAATAGGAGATATAAGACAAGCACATTGTAAC\n",
      "\n",
      "CTTAGTAGAGCACAATGGAATGACACTTTAAAAAGGGTAGTTGAAAAATTAAAAGAACAATTTGTGAATA\n",
      "\n",
      "AGACAATAGTCTTTAATCAATCCTCAGGAGGGGACCCAGAAATTG\n",
      "\n",
      "\n",
      "\n",
      ">lcl|Y14417.1_cds_CAA74760.1_1 [gene=gp120] [db_xref=GOA:O40511,InterPro:IPR000777,UniProtKB/TrEMBL:O40511] [protein_id=CAA74760.1] [location=<1..>325] [gbkey=CDS]\n",
      "\n",
      "GCTTGCAGTCTAGCAGAAGAAGAGGTAGTTATTAGTCTGAAAATCTCACAGAACAATGCTAAAAACATAA\n",
      "\n",
      "TAGTACAGCTGAAAGAACCTATAAAAATTAATTGCACAAGACCCAACAACAATACAAGAAAAAGCATACA\n",
      "\n",
      "TATAACACCAGGGAGAGCATTTTATGCAACAGGAGACATAATAGGAGACATAAGACAAGCACATTGTAAC\n",
      "\n",
      "CTTAGTAGAACAAGATGGAATAAAACTTTAGGAGAGATAGTTAAAAAATTAAGAGAACAATTTAAAAATA\n",
      "\n",
      "AGACAATAATCTTTAATTCATCCTCAGGAGGGGACCCAGAAATTG\n",
      "\n",
      "\n",
      "\n",
      ">lcl|Y14418.1_cds_CAA74761.1_1 [gene=gp120] [db_xref=GOA:O40512,InterPro:IPR000777,UniProtKB/TrEMBL:O40512] [protein_id=CAA74761.1] [location=<1..>325] [gbkey=CDS]\n",
      "\n",
      "AATGGTAGTCTAGCAGAAGAAGGGATACAGATTAGATCTGAAAATATCACAAACAATGCCAAAACCATAA\n",
      "\n",
      "TAGTACAACTTGATAAGGCTGTAAAAATTAATTGTACCAGACCTAACAACAATACAAGAAAAGGTGTAAG\n",
      "\n",
      "GATAGGACCAGGACAAGCATTCTATGCAACAGGTGGTATAATAGGGGATATAAGACAGGCACATTGTAAT\n",
      "\n",
      "GTCAGTAGAGCAAAATGGAACGACACTTTACGAGGGGTAGCCAAAAAACTACGAGAACACTTTAAAAACA\n",
      "\n",
      "AAACAATAATCTTTGAGAAATCCTCAGGAGGGGACCCAGAAATTG\n",
      "\n",
      "\n",
      "\n",
      ">lcl|Y14419.1_cds_CAA74762.1_1 [gene=gp120] [db_xref=GOA:O40513,InterPro:IPR000777,UniProtKB/TrEMBL:O40513] [protein_id=CAA74762.1] [location=<1..>328] [gbkey=CDS]\n",
      "\n",
      "GCTTGCAGTCTAGCAGAAGAAGAGGTAGTAATTAGATCTGAAAATTTCACAGACAATGCTAAAACCATAA\n",
      "\n",
      "TAGTACAGCTGAATGAATCTGTAGTAATTAATTGCACAAGACCCAGCAACAATACAAGAAAAAGTATACA\n",
      "\n",
      "TCTAGGATGGGGGCGTTCAGTTTATGCCACAGGAGACATAATAGGAGATATAAGACAAGCACATTGTAAC\n",
      "\n",
      "ATTAGTAGAGCAAAATGGAATGACACTTTAAAACAGATAGTTGAAAAATTAAGAGAACAATTTGGGGAAA\n",
      "\n",
      "ATAAAACAATAATCTTTAATCAATCCTCAGGAGGGGACCCAGAAATTG\n",
      "\n",
      "\n",
      "\n",
      ">lcl|Y14420.1_cds_CAA74763.1_1 [gene=gp120] [db_xref=GOA:O40514,InterPro:IPR000777,UniProtKB/TrEMBL:O40514] [protein_id=CAA74763.1] [location=<1..>325] [gbkey=CDS]\n",
      "\n",
      "GCTTCCAGTCTAGCAGAAGAAGAGGTAATGATCAGATCTGAAAATATCACAGACAATACCAAGAACATAA\n",
      "\n",
      "TAGTACAGCTTAAGACGCCTGTAAACATTACCTGTACCAGACCCAACAATAACACGAGAAAAGGAATACA\n",
      "\n",
      "TATAGCACCAGGACAAGCACTCTATGCAACAGGTGACATAATAGGAGATATAAGACAAGCACATTGTAAT\n",
      "\n",
      "ATTAGTGGAACAAAATGGAATAACACTTTACAAGAGGTAGTTACACAATTAGGAGAACACCTGAACAAGA\n",
      "\n",
      "GCACAATAGAGTTTAACCACCATTCAGGAGGGGACCCAGAAATTC\n",
      "\n",
      "\n",
      "\n",
      ">lcl|Y14421.1_cds_CAA74764.1_1 [gene=gp120] [db_xref=GOA:O40515,InterPro:IPR000777,UniProtKB/TrEMBL:O40515] [protein_id=CAA74764.1] [location=<1..>328] [gbkey=CDS]\n",
      "\n",
      "AATGGCAGTCTAGCAGAAGGAGAGGTAGTAATTAGATCTGAAAATTTCACAGACAATGCTAAAACCATAA\n",
      "\n",
      "TAGTACAGCTGAATGAATCTGTAGTAATTAATTGCACAAGACCCAACAACAATACAAGAAAAAATATACA\n",
      "\n",
      "TCTAGGACGGGGGCGTTCAGTTTATGCCACAGAAAAAATAATAGGAAATGTAAAACAAGCACATTGTAAC\n",
      "\n",
      "ATTAGTAGAGCAAAATGGAATGACACTTTAAAACAGATAGTTGAAAAATTAAGAGAACAATTTGGAAAAA\n",
      "\n",
      "ATAAAACAATAGTCTTTAATCAATCCTCAGGAGGGGACCCAGAAATTG\n",
      "\n",
      "\n",
      "\n",
      ">lcl|AF236860.1_cds_AAF69493.1_1 [gene=gp120] [protein=gp120] [protein_id=AAF69493.1] [location=<1..417] [gbkey=CDS]\n",
      "\n",
      "GTTCCTGTGTGGAAAGATGCAGAGACCACCTTATTTTGTGCATCAGATGCCAAAGCACATGAGACAGAAG\n",
      "\n",
      "TGCACAATGTCTGGGCCACACATGCCTGTGTACCCACAGACCCCAACCCACAAGAAATACAACTGAAAAA\n",
      "\n",
      "TGTAACAGAGAATTTTAACATGTGGAAAAATAACATGGTAGAGCAGATGCAGGAGGATGTAATCAGTTTA\n",
      "\n",
      "TGGGATCAAAGTCTAAAGCCATGTGTAAAGTTAACTCCTCTCTGCGTTACTTTAAATTGTACCGATGCTA\n",
      "\n",
      "CTTTGACCAATAGCACTTACATAACCAATGTCTCTAAGATAATAGGAGATATAACAGAGGAAGTAAGAAA\n",
      "\n",
      "CTGTTCTTTTAATATGACCACAGAACTAAGAGATAAGAAGCAGAAGGTCCATGCACTTTTTTTATAA\n",
      "\n",
      "\n",
      "\n"
     ]
    }
   ],
   "source": [
    "hiv = []\n",
    "for i in f:\n",
    "    print(i)\n",
    "    hiv.append(i)"
   ]
  },
  {
   "cell_type": "code",
   "execution_count": 31,
   "metadata": {},
   "outputs": [],
   "source": [
    "HIV = []\n",
    "for i in hiv:\n",
    "    a = i\n",
    "    if a[0] != '>':\n",
    "        HIV.append(i.strip('\\n'))\n",
    "    "
   ]
  },
  {
   "cell_type": "code",
   "execution_count": 38,
   "metadata": {},
   "outputs": [],
   "source": [
    "p = []\n",
    "\n",
    "for i in HIV:\n",
    "    if i != '':\n",
    "        c = c + i\n",
    "    else:\n",
    "        p.append(c)\n",
    "        c = ''"
   ]
  },
  {
   "cell_type": "code",
   "execution_count": 42,
   "metadata": {},
   "outputs": [
    {
     "data": {
      "text/plain": [
       "3998"
      ]
     },
     "execution_count": 42,
     "metadata": {},
     "output_type": "execute_result"
    }
   ],
   "source": [
    "open(\"hiv.fa\", \"w\").write(\"\".join(p))"
   ]
  },
  {
   "cell_type": "markdown",
   "metadata": {},
   "source": [
    "hiv.fa 4kb\n",
    "\n",
    "time bzip2 -k hiv.fa > hiv.bz\n",
    "\n",
    "real    0m0.002s\n",
    "user    0m0.002s\n",
    "sys     0m0.000s\n",
    "\n",
    "895B\n",
    "\n",
    "time gzip -c hiv.fa > hiv.gz\n",
    "\n",
    "real    0m0.001s\n",
    "user    0m0.001s\n",
    "sys     0m0.000s\n",
    "\n",
    "898B\n",
    "\n",
    "\n",
    "How\tdoes\tthe\tcompression\tratio\tof\tthis\tfile\tcompare\tto\trandom\tdata?\t\n",
    "**Better than random sequence as I expect.**\n"
   ]
  },
  {
   "cell_type": "markdown",
   "metadata": {},
   "source": [
    "Given\tthe\tbenchmarking\tdata\tyou\tobtained\tin\tthis\tlab,\twhich\talgorithm\tdo\tyou\tpropose\tto\tuse\tfor\teach type of data?\n",
    "**Binary data: gzip**\n",
    "**Sequence data: bzip**\n",
    "Provide\tan\testimate for the fraction of space you can save\tusing your compression\tscheme.\n",
    "**About 77% using bzip for DNA**\n",
    "**Approximately 45% using bzip for Protein**\n",
    "**About nothing for binary supposing that the number 0 equals to 1**\n",
    "**On average, 66.1%**\n",
    "How\tmuch of\ta bonus\tdo you anticipate receiving\tthis year?\t\n",
    "**Approximately, 33050$**"
   ]
  },
  {
   "cell_type": "code",
   "execution_count": 9,
   "metadata": {},
   "outputs": [],
   "source": [
    "import pandas as pd\n",
    "scores = [{'Original':'100MB','name':'100%', 'gzip_time':0.592, 'gzip_co':'97.1kb', 'bzip_time':0.880, 'bzip_co':'113B', 'bpzip_time':0.152, 'bpzip_co':'5.83kb'},\n",
    "          {'Original':'100MB','name':'90%', 'gzip_time':26.419, 'gzip_co':'56MB', 'bzip_time':9.818, 'bzip_co':'58.3MB', 'bpzip_time':1.109 , 'bpzip_co':'58.3MB'},\n",
    "          {'Original':'100MB','name':'80%', 'gzip_time':17.031, 'gzip_co':'77.4MB', 'bzip_time':10.391, 'bzip_co':'82.6MB', 'bpzip_time':1.287, 'bpzip_co':'82.6MB'},\n",
    "          {'Original':'100MB','name':'70%', 'gzip_time':6.972, 'gzip_co':'89.3MB', 'bzip_time':11.107, 'bzip_co':'95.1MB', 'bpzip_time':1.492, 'bpzip_co':'95.1MB'},\n",
    "          {'Original':'100MB','name':'60%', 'gzip_time':4.324, 'gzip_co':'97.7MB', 'bzip_time':12.259, 'bzip_co':'100MB', 'bpzip_time':1.757, 'bpzip_co':'100MB'},\n",
    "          {'Original':'100MB','name':'50%', 'gzip_time':3.499, 'gzip_co':'100MB', 'bzip_time':12.972, 'bzip_co':'100MB', 'bpzip_time':1.910, 'bpzip_co':'100MB'},\n",
    "          {'Original':'100MB','name':'nt', 'gzip_time':23.674, 'gzip_co':'29.2MB', 'bzip_time':9.535, 'bzip_co':'27.3MB', 'bpzip_time':1.075, 'bpzip_co':'27.3MB'},\n",
    "          {'Original':'100MB','name':'aa', 'gzip_time':4.351, 'gzip_co':'60.6MB', 'bzip_time':9.571, 'bzip_co':'55.3MB', 'bpzip_time':14.804, 'bpzip_co':'55.3MB'},\n",
    "          {'Original':'4kb','name':'hiv', 'gzip_time':0.002, 'gzip_co':'898B', 'bzip_time':0.001, 'bzip_co':'895B', 'bpzip_time':0.001, 'bpzip_co':'895B'}]\n",
    "score_df = pd.DataFrame(scores)"
   ]
  },
  {
   "cell_type": "code",
   "execution_count": 10,
   "metadata": {},
   "outputs": [
    {
     "data": {
      "text/html": [
       "<div>\n",
       "<style scoped>\n",
       "    .dataframe tbody tr th:only-of-type {\n",
       "        vertical-align: middle;\n",
       "    }\n",
       "\n",
       "    .dataframe tbody tr th {\n",
       "        vertical-align: top;\n",
       "    }\n",
       "\n",
       "    .dataframe thead th {\n",
       "        text-align: right;\n",
       "    }\n",
       "</style>\n",
       "<table border=\"1\" class=\"dataframe\">\n",
       "  <thead>\n",
       "    <tr style=\"text-align: right;\">\n",
       "      <th></th>\n",
       "      <th>Original</th>\n",
       "      <th>bpzip_co</th>\n",
       "      <th>bpzip_time</th>\n",
       "      <th>bzip_co</th>\n",
       "      <th>bzip_time</th>\n",
       "      <th>gzip_co</th>\n",
       "      <th>gzip_time</th>\n",
       "      <th>name</th>\n",
       "    </tr>\n",
       "  </thead>\n",
       "  <tbody>\n",
       "    <tr>\n",
       "      <th>0</th>\n",
       "      <td>100MB</td>\n",
       "      <td>5.83kb</td>\n",
       "      <td>0.152</td>\n",
       "      <td>113B</td>\n",
       "      <td>0.880</td>\n",
       "      <td>97.1kb</td>\n",
       "      <td>0.592</td>\n",
       "      <td>100%</td>\n",
       "    </tr>\n",
       "    <tr>\n",
       "      <th>1</th>\n",
       "      <td>100MB</td>\n",
       "      <td>58.3MB</td>\n",
       "      <td>1.109</td>\n",
       "      <td>58.3MB</td>\n",
       "      <td>9.818</td>\n",
       "      <td>56MB</td>\n",
       "      <td>26.419</td>\n",
       "      <td>90%</td>\n",
       "    </tr>\n",
       "    <tr>\n",
       "      <th>2</th>\n",
       "      <td>100MB</td>\n",
       "      <td>82.6MB</td>\n",
       "      <td>1.287</td>\n",
       "      <td>82.6MB</td>\n",
       "      <td>10.391</td>\n",
       "      <td>77.4MB</td>\n",
       "      <td>17.031</td>\n",
       "      <td>80%</td>\n",
       "    </tr>\n",
       "    <tr>\n",
       "      <th>3</th>\n",
       "      <td>100MB</td>\n",
       "      <td>95.1MB</td>\n",
       "      <td>1.492</td>\n",
       "      <td>95.1MB</td>\n",
       "      <td>11.107</td>\n",
       "      <td>89.3MB</td>\n",
       "      <td>6.972</td>\n",
       "      <td>70%</td>\n",
       "    </tr>\n",
       "    <tr>\n",
       "      <th>4</th>\n",
       "      <td>100MB</td>\n",
       "      <td>100MB</td>\n",
       "      <td>1.757</td>\n",
       "      <td>100MB</td>\n",
       "      <td>12.259</td>\n",
       "      <td>97.7MB</td>\n",
       "      <td>4.324</td>\n",
       "      <td>60%</td>\n",
       "    </tr>\n",
       "    <tr>\n",
       "      <th>5</th>\n",
       "      <td>100MB</td>\n",
       "      <td>100MB</td>\n",
       "      <td>1.910</td>\n",
       "      <td>100MB</td>\n",
       "      <td>12.972</td>\n",
       "      <td>100MB</td>\n",
       "      <td>3.499</td>\n",
       "      <td>50%</td>\n",
       "    </tr>\n",
       "    <tr>\n",
       "      <th>6</th>\n",
       "      <td>100MB</td>\n",
       "      <td>27.3MB</td>\n",
       "      <td>1.075</td>\n",
       "      <td>27.3MB</td>\n",
       "      <td>9.535</td>\n",
       "      <td>29.2MB</td>\n",
       "      <td>23.674</td>\n",
       "      <td>nt</td>\n",
       "    </tr>\n",
       "    <tr>\n",
       "      <th>7</th>\n",
       "      <td>100MB</td>\n",
       "      <td>55.3MB</td>\n",
       "      <td>14.804</td>\n",
       "      <td>55.3MB</td>\n",
       "      <td>9.571</td>\n",
       "      <td>60.6MB</td>\n",
       "      <td>4.351</td>\n",
       "      <td>aa</td>\n",
       "    </tr>\n",
       "    <tr>\n",
       "      <th>8</th>\n",
       "      <td>4kb</td>\n",
       "      <td>895B</td>\n",
       "      <td>0.001</td>\n",
       "      <td>895B</td>\n",
       "      <td>0.001</td>\n",
       "      <td>898B</td>\n",
       "      <td>0.002</td>\n",
       "      <td>hiv</td>\n",
       "    </tr>\n",
       "  </tbody>\n",
       "</table>\n",
       "</div>"
      ],
      "text/plain": [
       "  Original bpzip_co  bpzip_time bzip_co  bzip_time gzip_co  gzip_time  name\n",
       "0    100MB   5.83kb       0.152    113B      0.880  97.1kb      0.592  100%\n",
       "1    100MB   58.3MB       1.109  58.3MB      9.818    56MB     26.419   90%\n",
       "2    100MB   82.6MB       1.287  82.6MB     10.391  77.4MB     17.031   80%\n",
       "3    100MB   95.1MB       1.492  95.1MB     11.107  89.3MB      6.972   70%\n",
       "4    100MB    100MB       1.757   100MB     12.259  97.7MB      4.324   60%\n",
       "5    100MB    100MB       1.910   100MB     12.972   100MB      3.499   50%\n",
       "6    100MB   27.3MB       1.075  27.3MB      9.535  29.2MB     23.674    nt\n",
       "7    100MB   55.3MB      14.804  55.3MB      9.571  60.6MB      4.351    aa\n",
       "8      4kb     895B       0.001    895B      0.001    898B      0.002   hiv"
      ]
     },
     "execution_count": 10,
     "metadata": {},
     "output_type": "execute_result"
    }
   ],
   "source": [
    "score_df"
   ]
  }
 ],
 "metadata": {
  "kernelspec": {
   "display_name": "Python 3",
   "language": "python",
   "name": "python3"
  },
  "language_info": {
   "codemirror_mode": {
    "name": "ipython",
    "version": 3
   },
   "file_extension": ".py",
   "mimetype": "text/x-python",
   "name": "python",
   "nbconvert_exporter": "python",
   "pygments_lexer": "ipython3",
   "version": "3.7.3"
  }
 },
 "nbformat": 4,
 "nbformat_minor": 2
}
