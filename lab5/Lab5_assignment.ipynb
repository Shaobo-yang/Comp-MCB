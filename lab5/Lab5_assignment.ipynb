{
 "cells": [
  {
   "cell_type": "markdown",
   "metadata": {},
   "source": [
    "Why are these riboswitches called AND-1 and OR-1?\n",
    "\n",
    "It is named by its logic function. Here the input is whether to add the DNA binding to the OBS. AND-1 means it needs two DNA to promote the self-cleave. OR-1 means either DNA could make it cut itself.\n",
    "\n",
    "Will the AND-1 riboswitch cleave itself when both of its OBS are bound? \n",
    "\n",
    "Yes.\n",
    "\n",
    "Will the OR-1 riboswitch cleave itself when neither of its OBS are bound? \n",
    "\n",
    "No.\n",
    "\n",
    "What behavior do we expect from the YES-1 riboswitch?\n",
    "\n",
    "If its OBS is bound, it can cleave itself."
   ]
  },
  {
   "cell_type": "markdown",
   "metadata": {},
   "source": [
    "## Task1\n",
    "Establish a **table** containing **Riboswitch name, start and end coordinates of OBS-1, start and end coordinates of OBS-2, start \n",
    "and end coordinates of the two red regions**"
   ]
  },
  {
   "cell_type": "code",
   "execution_count": 8,
   "metadata": {},
   "outputs": [
    {
     "data": {
      "text/plain": [
       "<sqlite3.Cursor at 0x7fc51088f0a0>"
      ]
     },
     "execution_count": 8,
     "metadata": {},
     "output_type": "execute_result"
    }
   ],
   "source": [
    "import sqlite3\n",
    "lab5 = sqlite3.connect('lab5.db')\n",
    "lab = lab5.cursor()\n",
    "lab.execute(\"\"\"CREATE TABLE logic(id INT,\n",
    "                                  name TEXT,\n",
    "                                  OBS1 TEXT,\n",
    "                                  OBS2 TEXT,\n",
    "                                  red1 TEXT,\n",
    "                                  red2 TEXT);\"\"\")\n",
    "\n",
    "lab = lab5.cursor()\n",
    "lab.execute(\"\"\"INSERT INTO logic(id,\n",
    "                               name,\n",
    "                               OBS1,\n",
    "                               OBS2,\n",
    "                               red1,\n",
    "                               red2)\n",
    "                         VALUES(1,\n",
    "                                'YES-1',\n",
    "                                '(26,47)',\n",
    "                                '',\n",
    "                                '(16,21)',\n",
    "                                '(49,54)');\"\"\")\n",
    "\n",
    "lab = lab5.cursor()\n",
    "lab.execute(\"\"\"INSERT INTO logic(id,\n",
    "                               name,\n",
    "                               OBS1,\n",
    "                               OBS2,\n",
    "                               red1,\n",
    "                               red2)\n",
    "                         VALUES(2,\n",
    "                                'NOT-1',\n",
    "                                '(26,47)',\n",
    "                                '',\n",
    "                                '(16,21)',\n",
    "                                '(49,54)');\"\"\")\n",
    "\n",
    "lab = lab5.cursor()\n",
    "lab.execute(\"\"\"INSERT INTO logic(id,\n",
    "                               name,\n",
    "                               OBS1,\n",
    "                               OBS2,\n",
    "                               red1,\n",
    "                               red2)\n",
    "                         VALUES(3,\n",
    "                                'AND-1',\n",
    "                                '(30,45)',\n",
    "                                '(49,64)',\n",
    "                                '(16,23)',\n",
    "                                '(70,77)');\"\"\")\n",
    "\n",
    "lab = lab5.cursor()\n",
    "lab.execute(\"\"\"INSERT INTO logic(id,\n",
    "                               name,\n",
    "                               OBS1,\n",
    "                               OBS2,\n",
    "                               red1,\n",
    "                               red2)\n",
    "                         VALUES(4,\n",
    "                                'OR-1',\n",
    "                                '(27,46)',\n",
    "                                '(47,66)',\n",
    "                                '(16,26)',\n",
    "                                '(70,77)');\"\"\")"
   ]
  },
  {
   "cell_type": "markdown",
   "metadata": {},
   "source": [
    "## Task 2 The meat of assignment\n",
    "\n",
    "Are they the same? \n",
    "\n",
    "No, I don't think so according to my result. AND-1_con, NOT-1 and NOT-1_con are bascially the same. However The others are totally different.\n",
    "\n",
    "\n",
    "Are there any stem-loop structures that don’t match up? \n",
    "\n",
    "Yes, so many.\n",
    "\n",
    "What might explain the differences? \n",
    "\n",
    "I suppose the agrithom is different since the paper is pubished in 2007.\n",
    "And also, maybe I don't consider the experiment condition."
   ]
  },
  {
   "cell_type": "code",
   "execution_count": 2,
   "metadata": {},
   "outputs": [
    {
     "name": "stdout",
     "output_type": "stream",
     "text": [
      "***This is what I have on command!***\n",
      "\n",
      "***And my output file***\n",
      "GGGCGACCCUGAUGAGCUUGAGUUUAGCUCGUCACUGUCCAGGUUCAAUCAGGCGAAACGGUGAAAGCCGUAGGUUGCCC\n",
      "((((((((.(((((((((.......))))))))).((.((.(((...))).))))..(((((....))))).)))))))) (-33.00)\n",
      "\n"
     ]
    },
    {
     "data": {
      "text/plain": [
       "<function TextIOWrapper.close()>"
      ]
     },
     "execution_count": 2,
     "metadata": {},
     "output_type": "execute_result"
    }
   ],
   "source": [
    "import subprocess\n",
    "YES_1_seqs = \\\n",
    "\"\"\"GGGCGACCCUGAUGAGCUUGAGUUUAGCUCGUCACUGUCCAGGUUCAAUCAGGCGAAACGGUGAAAGCCGUAGGUUGCCC\"\"\"\n",
    "p = subprocess.run(['RNAfold'],\n",
    "                  input=bytes(YES_1_seqs,'ascii'),\n",
    "                  stdout = subprocess.PIPE,\n",
    "                  stderr = subprocess.PIPE)\n",
    "print(\"***This is what I have on command!***\")\n",
    "print(p.stderr.decode())\n",
    "\n",
    "svg_YES_1 = p.stdout.decode()\n",
    "print(\"***And my output file***\")\n",
    "print(p.stdout.decode())\n",
    "\n",
    "f1 = open('YES-1.txt','w')\n",
    "f1.write(svg_YES_1)\n",
    "f1.close"
   ]
  },
  {
   "cell_type": "markdown",
   "metadata": {},
   "source": [
    "I use another way to generate the plot of RNA, because **os.system** can not produce the whole picture of RNA structure.\n",
    "My operation is as follows.\n",
    "#### Cancel the number like Gibbson free energy\n",
    "'$: sed -i 's/ \\(.*\\)$//' myfold.txt'\n",
    "#### Generate the .svg plot\n",
    "$: cat myfold.txt | RNAplot -o svg\n",
    "\n",
    "And finally, I use [CloudCovert](https://cloudconvert.com/svg-to-pdf) to transform the .svg to .pdf."
   ]
  },
  {
   "cell_type": "code",
   "execution_count": 3,
   "metadata": {},
   "outputs": [
    {
     "data": {
      "text/plain": [
       "0"
      ]
     },
     "execution_count": 3,
     "metadata": {},
     "output_type": "execute_result"
    }
   ],
   "source": [
    "import os\n",
    "os.system(\"ps2pdf rna.ps YES-1.pdf\")"
   ]
  },
  {
   "cell_type": "code",
   "execution_count": 11,
   "metadata": {},
   "outputs": [
    {
     "data": {
      "image/png": "[encoded data removed]",
      "text/plain": [
       "<wand.image.Image: 71f7f82 'PDF' (339x339)>"
      ]
     },
     "execution_count": 11,
     "metadata": {},
     "output_type": "execute_result"
    }
   ],
   "source": [
    "from wand.image import Image as WImage\n",
    "img = WImage(filename='YES-1.pdf')\n",
    "img"
   ]
  },
  {
   "cell_type": "code",
   "execution_count": 14,
   "metadata": {},
   "outputs": [
    {
     "name": "stdout",
     "output_type": "stream",
     "text": [
      "***This is what I have on command!***\n",
      "WARNING: structure constraint is missing\n",
      "\n",
      "***And my output file***\n",
      "GGGCGACCCUGAUGAGCUUGAGUUUxxxxxxxxxxxxxxxxxxxxxxxAUCAGGCGAAACGGUGAAAGCCGUAGGUUGCCC\n",
      "((((((((.......((((((............................))))))...(((((....))))).)))))))) (-24.40)\n",
      "\n"
     ]
    }
   ],
   "source": [
    "YES_1_seqs_con = \\\n",
    "\"\"\"GGGCGACCCUGAUGAGCUUGAGUUUxxxxxxxxxxxxxxxxxxxxxxxAUCAGGCGAAACGGUGAAAGCCGUAGGUUGCCC\"\"\"\n",
    "\n",
    "p = subprocess.run(['RNAfold','-C'],\n",
    "                  input=bytes(YES_1_seqs_con,'ascii'),\n",
    "                  stdout = subprocess.PIPE,\n",
    "                  stderr = subprocess.PIPE)\n",
    "print(\"***This is what I have on command!***\")\n",
    "print(p.stderr.decode())\n",
    "\n",
    "svg_YES_1_con = p.stdout.decode()\n",
    "print(\"***And my output file***\")\n",
    "print(p.stdout.decode())"
   ]
  },
  {
   "cell_type": "code",
   "execution_count": 10,
   "metadata": {
    "scrolled": true
   },
   "outputs": [
    {
     "data": {
      "image/png": "[encoded data removed]",
      "text/plain": [
       "<wand.image.Image: 2f9ad7b 'PDF' (339x339)>"
      ]
     },
     "execution_count": 10,
     "metadata": {},
     "output_type": "execute_result"
    }
   ],
   "source": [
    "from wand.image import Image as WImage\n",
    "img = WImage(filename='YES-1_con.pdf')\n",
    "img"
   ]
  },
  {
   "cell_type": "code",
   "execution_count": null,
   "metadata": {},
   "outputs": [],
   "source": [
    "#import os\n",
    "#os.system(\"ps2pdf rna.ps YES-1_con.pdf\")"
   ]
  },
  {
   "cell_type": "code",
   "execution_count": 5,
   "metadata": {
    "scrolled": true
   },
   "outputs": [
    {
     "name": "stdout",
     "output_type": "stream",
     "text": [
      "***This is what I have on command!***\n",
      "\n",
      "***And my output file***\n",
      "GGCAGGUACAUACAGCUGAUGAGUCCCAAAUAGGACGAAACGCGACACACACCACUAAACCGUGCAGUGUUUUGCGUCCUGUAUUCCACUGC\n",
      ".((((....((((((.......((((......))))...((((((.((((..(((......)))..)))).)))))).))))))....)))) (-28.10)\n",
      "\n"
     ]
    },
    {
     "data": {
      "text/plain": [
       "<function TextIOWrapper.close()>"
      ]
     },
     "execution_count": 5,
     "metadata": {},
     "output_type": "execute_result"
    }
   ],
   "source": [
    "NOT_1_seqs = \\\n",
    "\"\"\"GGCAGGUACAUACAGCUGAUGAGUCCCAAAUAGGACGAAACGCGACACACACCACUAAACCGUGCAGUGUUUUGCGUCCUGUAUUCCACUGC\"\"\"\n",
    "\n",
    "p = subprocess.run(['RNAfold'],\n",
    "                  input=bytes(NOT_1_seqs,'ascii'),\n",
    "                  stdout = subprocess.PIPE,\n",
    "                  stderr = subprocess.PIPE)\n",
    "print(\"***This is what I have on command!***\")\n",
    "print(p.stderr.decode())\n",
    "\n",
    "svg_NOT_1 = p.stdout.decode()\n",
    "print(\"***And my output file***\")\n",
    "print(p.stdout.decode())\n",
    "\n",
    "f1 = open('NOT-1.txt','w')\n",
    "f1.write(svg_NOT_1)\n",
    "f1.close\n",
    "\n",
    "#import os\n",
    "#os.system(\"ps2pdf rna.ps YES-1.pdf\")"
   ]
  },
  {
   "cell_type": "code",
   "execution_count": 13,
   "metadata": {},
   "outputs": [
    {
     "data": {
      "image/png": "[encoded data removed]",
      "text/plain": [
       "<wand.image.Image: 9a88d65 'PDF' (339x339)>"
      ]
     },
     "execution_count": 13,
     "metadata": {},
     "output_type": "execute_result"
    }
   ],
   "source": [
    "from wand.image import Image as WImage\n",
    "img = WImage(filename='NOT-1.pdf')\n",
    "img"
   ]
  },
  {
   "cell_type": "code",
   "execution_count": 4,
   "metadata": {
    "scrolled": true
   },
   "outputs": [
    {
     "name": "stdout",
     "output_type": "stream",
     "text": [
      "***This is what I have on command!***\n",
      "\n",
      "***And my output file***\n",
      "GGCAGGUACAUACAGCUGAUGAGUCCCAAAUAGGACGAAACGCxxxxxxxxxxxxxxxxxxxxxxxGUGUUUUGCGUCCUGUAUUCCACUGC\n",
      ".((((....((((((..((((.((((......))))(((((((.......................))))))).))))))))))....)))) (-19.30)\n",
      "\n"
     ]
    },
    {
     "data": {
      "text/plain": [
       "<function TextIOWrapper.close()>"
      ]
     },
     "execution_count": 4,
     "metadata": {},
     "output_type": "execute_result"
    }
   ],
   "source": [
    "NOT_1_seqs_con = \\\n",
    "\"\"\"GGCAGGUACAUACAGCUGAUGAGUCCCAAAUAGGACGAAACGCxxxxxxxxxxxxxxxxxxxxxxxGUGUUUUGCGUCCUGUAUUCCACUGC\"\"\"\n",
    "\n",
    "p = subprocess.run(['RNAfold'],\n",
    "                  input=bytes(NOT_1_seqs_con,'ascii'),\n",
    "                  stdout = subprocess.PIPE,\n",
    "                  stderr = subprocess.PIPE)\n",
    "print(\"***This is what I have on command!***\")\n",
    "print(p.stderr.decode())\n",
    "\n",
    "svg_NOT_1_con = p.stdout.decode()\n",
    "print(\"***And my output file***\")\n",
    "print(p.stdout.decode())\n",
    "\n",
    "f1 = open('NOT-1_con.txt','w')\n",
    "f1.write(svg_NOT_1_con)\n",
    "f1.close\n",
    "\n",
    "#import os\n",
    "#os.system(\"ps2pdf rna.ps YES-1.pdf\")"
   ]
  },
  {
   "cell_type": "code",
   "execution_count": 14,
   "metadata": {},
   "outputs": [
    {
     "data": {
      "image/png": "[encoded data removed]",
      "text/plain": [
       "<wand.image.Image: d3a945a 'PDF' (339x339)>"
      ]
     },
     "execution_count": 14,
     "metadata": {},
     "output_type": "execute_result"
    }
   ],
   "source": [
    "from wand.image import Image as WImage\n",
    "img = WImage(filename='NOT-1_con.pdf')\n",
    "img"
   ]
  },
  {
   "cell_type": "code",
   "execution_count": 6,
   "metadata": {},
   "outputs": [
    {
     "name": "stdout",
     "output_type": "stream",
     "text": [
      "***This is what I have on command!***\n",
      "\n",
      "***And my output file***\n",
      "GGGCGACCCUGAUGAGCUUGGUUUAGUAUUUACAGCUCCAUACAUGAGGUGUUAUCCCUAUGCAAGUUCGAUCAGGCGAAACGGUGAAAGCCGUAGGUUGCCCAGAGACAAU\n",
      "((((((((((((((((((((...(((.....(((.(((.......))).))).....)))..))))))).))))).....(((((....))))).))))))))......... (-42.10)\n",
      "\n"
     ]
    },
    {
     "data": {
      "text/plain": [
       "<function TextIOWrapper.close()>"
      ]
     },
     "execution_count": 6,
     "metadata": {},
     "output_type": "execute_result"
    }
   ],
   "source": [
    "AND_1_seqs = \\\n",
    "\"\"\"GGGCGACCCUGAUGAGCUUGGUUUAGUAUUUACAGCUCCAUACAUGAGGUGUUAUCCCUAUGCAAGUUCGAUCAGGCGAAACGGUGAAAGCCGUAGGUUGCCCAGAGACAAU\"\"\"\n",
    "\n",
    "p = subprocess.run(['RNAfold'],\n",
    "                  input=bytes(AND_1_seqs,'ascii'),\n",
    "                  stdout = subprocess.PIPE,\n",
    "                  stderr = subprocess.PIPE)\n",
    "print(\"***This is what I have on command!***\")\n",
    "print(p.stderr.decode())\n",
    "\n",
    "svg_AND_1 = p.stdout.decode()\n",
    "print(\"***And my output file***\")\n",
    "print(p.stdout.decode())\n",
    "\n",
    "f1 = open('AND-1.txt','w')\n",
    "f1.write(svg_AND_1)\n",
    "f1.close\n",
    "\n",
    "#import os\n",
    "#os.system(\"ps2pdf rna.ps YES-1.pdf\")"
   ]
  },
  {
   "cell_type": "code",
   "execution_count": 15,
   "metadata": {},
   "outputs": [
    {
     "data": {
      "image/png": "[encoded data removed]",
      "text/plain": [
       "<wand.image.Image: 1e828bd 'PDF' (339x339)>"
      ]
     },
     "execution_count": 15,
     "metadata": {},
     "output_type": "execute_result"
    }
   ],
   "source": [
    "from wand.image import Image as WImage\n",
    "img = WImage(filename='AND-1.pdf')\n",
    "img"
   ]
  },
  {
   "cell_type": "code",
   "execution_count": 8,
   "metadata": {},
   "outputs": [
    {
     "name": "stdout",
     "output_type": "stream",
     "text": [
      "***This is what I have on command!***\n",
      "\n",
      "***And my output file***\n",
      "GGGCGACCCUGAUGAGCUUGGUUUAGUAUxxxxxxxxxxxxxxxxGAGGUGUUAUCCCUAUGCAAGUUCGAUCAGGCGAAACGGUGAAAGCCGUAGGUUGCCCAGAGACAAU\n",
      "((((((((((((((((((((..........................(((.(....))))...))))))).))))).....(((((....))))).))))))))......... (-33.90)\n",
      "\n"
     ]
    },
    {
     "data": {
      "text/plain": [
       "<function TextIOWrapper.close()>"
      ]
     },
     "execution_count": 8,
     "metadata": {},
     "output_type": "execute_result"
    }
   ],
   "source": [
    "AND_1_seqs_TF = \\\n",
    "\"\"\"GGGCGACCCUGAUGAGCUUGGUUUAGUAUxxxxxxxxxxxxxxxxGAGGUGUUAUCCCUAUGCAAGUUCGAUCAGGCGAAACGGUGAAAGCCGUAGGUUGCCCAGAGACAAU\"\"\"\n",
    "\n",
    "p = subprocess.run(['RNAfold'],\n",
    "                  input=bytes(AND_1_seqs_TF,'ascii'),\n",
    "                  stdout = subprocess.PIPE,\n",
    "                  stderr = subprocess.PIPE)\n",
    "print(\"***This is what I have on command!***\")\n",
    "print(p.stderr.decode())\n",
    "\n",
    "svg_AND_1_TF = p.stdout.decode()\n",
    "print(\"***And my output file***\")\n",
    "print(p.stdout.decode())\n",
    "\n",
    "f1 = open('AND-1_TF.txt','w')\n",
    "f1.write(svg_AND_1_TF)\n",
    "f1.close\n"
   ]
  },
  {
   "cell_type": "code",
   "execution_count": 16,
   "metadata": {},
   "outputs": [
    {
     "data": {
      "image/png": "[encoded data removed]",
      "text/plain": [
       "<wand.image.Image: 64bb547 'PDF' (339x339)>"
      ]
     },
     "execution_count": 16,
     "metadata": {},
     "output_type": "execute_result"
    }
   ],
   "source": [
    "from wand.image import Image as WImage\n",
    "img = WImage(filename='AND-1_TF.pdf')\n",
    "img"
   ]
  },
  {
   "cell_type": "code",
   "execution_count": 9,
   "metadata": {},
   "outputs": [
    {
     "name": "stdout",
     "output_type": "stream",
     "text": [
      "***This is what I have on command!***\n",
      "\n",
      "***And my output file***\n",
      "GGGCGACCCUGAUGAGCUUGGUUUAGUAUUUACAGCUCCAUACAUGAGxxxxxxxxxxxxxxxxAGUUCGAUCAGGCGAAACGGUGAAAGCCGUAGGUUGCCCAGAGACAAU\n",
      "(((((((((((((((((((((...(((.......))))))........................))))).))))).....(((((....))))).))))))))......... (-29.60)\n",
      "\n"
     ]
    },
    {
     "data": {
      "text/plain": [
       "<function TextIOWrapper.close()>"
      ]
     },
     "execution_count": 9,
     "metadata": {},
     "output_type": "execute_result"
    }
   ],
   "source": [
    "AND_1_seqs_FT = \\\n",
    "\"\"\"GGGCGACCCUGAUGAGCUUGGUUUAGUAUUUACAGCUCCAUACAUGAGxxxxxxxxxxxxxxxxAGUUCGAUCAGGCGAAACGGUGAAAGCCGUAGGUUGCCCAGAGACAAU\"\"\"\n",
    "\n",
    "p = subprocess.run(['RNAfold'],\n",
    "                  input=bytes(AND_1_seqs_FT,'ascii'),\n",
    "                  stdout = subprocess.PIPE,\n",
    "                  stderr = subprocess.PIPE)\n",
    "print(\"***This is what I have on command!***\")\n",
    "print(p.stderr.decode())\n",
    "\n",
    "svg_AND_1_FT = p.stdout.decode()\n",
    "print(\"***And my output file***\")\n",
    "print(p.stdout.decode())\n",
    "\n",
    "f1 = open('AND-1_FT.txt','w')\n",
    "f1.write(svg_AND_1_FT)\n",
    "f1.close"
   ]
  },
  {
   "cell_type": "code",
   "execution_count": 17,
   "metadata": {},
   "outputs": [
    {
     "data": {
      "image/png": "[encoded data removed]",
      "text/plain": [
       "<wand.image.Image: c2a48be 'PDF' (339x339)>"
      ]
     },
     "execution_count": 17,
     "metadata": {},
     "output_type": "execute_result"
    }
   ],
   "source": [
    "from wand.image import Image as WImage\n",
    "img = WImage(filename='AND-1_FT.pdf')\n",
    "img"
   ]
  },
  {
   "cell_type": "code",
   "execution_count": 10,
   "metadata": {},
   "outputs": [
    {
     "name": "stdout",
     "output_type": "stream",
     "text": [
      "***This is what I have on command!***\n",
      "\n",
      "***And my output file***\n",
      "GGGCGACCCUGAUGAGCUUGGUUUAGUAUxxxxxxxxxxxxxxxxGAGxxxxxxxxxxxxxxxxAGUUCGAUCAGGCGAAACGGUGAAAGCCGUAGGUUGCCCAGAGACAAU\n",
      "((((((((((((((((((..............................................))))).))))).....(((((....))))).))))))))......... (-27.54)\n",
      "\n"
     ]
    },
    {
     "data": {
      "text/plain": [
       "<function TextIOWrapper.close()>"
      ]
     },
     "execution_count": 10,
     "metadata": {},
     "output_type": "execute_result"
    }
   ],
   "source": [
    "AND_1_seqs_TT = \\\n",
    "\"\"\"GGGCGACCCUGAUGAGCUUGGUUUAGUAUxxxxxxxxxxxxxxxxGAGxxxxxxxxxxxxxxxxAGUUCGAUCAGGCGAAACGGUGAAAGCCGUAGGUUGCCCAGAGACAAU\"\"\"\n",
    "\n",
    "p = subprocess.run(['RNAfold'],\n",
    "                  input=bytes(AND_1_seqs_TT,'ascii'),\n",
    "                  stdout = subprocess.PIPE,\n",
    "                  stderr = subprocess.PIPE)\n",
    "print(\"***This is what I have on command!***\")\n",
    "print(p.stderr.decode())\n",
    "\n",
    "svg_AND_1_TT = p.stdout.decode()\n",
    "print(\"***And my output file***\")\n",
    "print(p.stdout.decode())\n",
    "\n",
    "f1 = open('AND-1_TT.txt','w')\n",
    "f1.write(svg_AND_1_TT)\n",
    "f1.close\n"
   ]
  },
  {
   "cell_type": "code",
   "execution_count": 19,
   "metadata": {},
   "outputs": [
    {
     "data": {
      "image/png": "[encoded data removed]",
      "text/plain": [
       "<wand.image.Image: 026c61f 'PDF' (339x339)>"
      ]
     },
     "execution_count": 19,
     "metadata": {},
     "output_type": "execute_result"
    }
   ],
   "source": [
    "from wand.image import Image as WImage\n",
    "img = WImage(filename='AND-1_TT.pdf')\n",
    "img"
   ]
  },
  {
   "cell_type": "code",
   "execution_count": 3,
   "metadata": {},
   "outputs": [
    {
     "name": "stdout",
     "output_type": "stream",
     "text": [
      "***This is what I have on command!***\n",
      "\n",
      "***And my output file***\n",
      "GGGCGACCCUGAUGAGCUUGGUUGAGUAUUUACAGCUCCAUACAUGAGGUGUUCUCCCUACGCAAGUUCGAUCAGGCGAAACGGUGAAAGCCGUAGGUUGCCC\n",
      "((((((((((((((((((((((.(((.....(((.(((.......))).))).)))...)).))))))).))))).....(((((....))))).)))))))) (-40.00)\n",
      "\n"
     ]
    },
    {
     "data": {
      "text/plain": [
       "<function TextIOWrapper.close()>"
      ]
     },
     "execution_count": 3,
     "metadata": {},
     "output_type": "execute_result"
    }
   ],
   "source": [
    "OR_1_seqs = \\\n",
    "\"\"\"GGGCGACCCUGAUGAGCUUGGUUGAGUAUUUACAGCUCCAUACAUGAGGUGUUCUCCCUACGCAAGUUCGAUCAGGCGAAACGGUGAAAGCCGUAGGUUGCCC\"\"\"\n",
    "\n",
    "p = subprocess.run(['RNAfold'],\n",
    "                  input=bytes(OR_1_seqs,'ascii'),\n",
    "                  stdout = subprocess.PIPE,\n",
    "                  stderr = subprocess.PIPE)\n",
    "print(\"***This is what I have on command!***\")\n",
    "print(p.stderr.decode())\n",
    "\n",
    "svg_OR_1 = p.stdout.decode()\n",
    "print(\"***And my output file***\")\n",
    "print(p.stdout.decode())\n",
    "\n",
    "f1 = open('OR-1.txt','w')\n",
    "f1.write(svg_OR_1)\n",
    "f1.close\n"
   ]
  },
  {
   "cell_type": "code",
   "execution_count": 20,
   "metadata": {},
   "outputs": [
    {
     "data": {
      "image/png": "[encoded data removed]",
      "text/plain": [
       "<wand.image.Image: 69628dc 'PDF' (339x339)>"
      ]
     },
     "execution_count": 20,
     "metadata": {},
     "output_type": "execute_result"
    }
   ],
   "source": [
    "from wand.image import Image as WImage\n",
    "img = WImage(filename='OR-1.pdf')\n",
    "img"
   ]
  },
  {
   "cell_type": "code",
   "execution_count": 4,
   "metadata": {},
   "outputs": [
    {
     "name": "stdout",
     "output_type": "stream",
     "text": [
      "***This is what I have on command!***\n",
      "\n",
      "***And my output file***\n",
      "GGGCGACCCUGAUGAGCUUGGUUGAGxxxxxxxxxxxxxxxxxxxxAGGUGUUCUCCCUACGCAAGUUCGAUCAGGCGAAACGGUGAAAGCCGUAGGUUGCCC\n",
      "((((((((((((((((((((((.(((...........................)))...)).))))))).))))).....(((((....))))).)))))))) (-33.10)\n",
      "\n"
     ]
    },
    {
     "data": {
      "text/plain": [
       "<function TextIOWrapper.close()>"
      ]
     },
     "execution_count": 4,
     "metadata": {},
     "output_type": "execute_result"
    }
   ],
   "source": [
    "OR_1_seqs_TF = \\\n",
    "\"\"\"GGGCGACCCUGAUGAGCUUGGUUGAGxxxxxxxxxxxxxxxxxxxxAGGUGUUCUCCCUACGCAAGUUCGAUCAGGCGAAACGGUGAAAGCCGUAGGUUGCCC\"\"\"\n",
    "\n",
    "p = subprocess.run(['RNAfold'],\n",
    "                  input=bytes(OR_1_seqs_TF,'ascii'),\n",
    "                  stdout = subprocess.PIPE,\n",
    "                  stderr = subprocess.PIPE)\n",
    "print(\"***This is what I have on command!***\")\n",
    "print(p.stderr.decode())\n",
    "\n",
    "svg_OR_1_TF = p.stdout.decode()\n",
    "print(\"***And my output file***\")\n",
    "print(p.stdout.decode())\n",
    "\n",
    "f1 = open('OR-1_TF.txt','w')\n",
    "f1.write(svg_OR_1_TF)\n",
    "f1.close\n"
   ]
  },
  {
   "cell_type": "code",
   "execution_count": 21,
   "metadata": {},
   "outputs": [
    {
     "data": {
      "image/png": "[encoded data removed]",
      "text/plain": [
       "<wand.image.Image: ec2ba35 'PDF' (339x339)>"
      ]
     },
     "execution_count": 21,
     "metadata": {},
     "output_type": "execute_result"
    }
   ],
   "source": [
    "from wand.image import Image as WImage\n",
    "img = WImage(filename='OR-1_TF.pdf')\n",
    "img"
   ]
  },
  {
   "cell_type": "code",
   "execution_count": 5,
   "metadata": {},
   "outputs": [
    {
     "name": "stdout",
     "output_type": "stream",
     "text": [
      "***This is what I have on command!***\n",
      "\n",
      "***And my output file***\n",
      "GGGCGACCCUGAUGAGCUUGGUUGAGUAUUUACAGCUCCAUACAUGxxxxxxxxxxxxxxxxxxxxUUCGAUCAGGCGAAACGGUGAAAGCCGUAGGUUGCCC\n",
      "((((((((.......(((((((((((........................................)))))))))))...(((((....))))).)))))))) (-29.09)\n",
      "\n"
     ]
    },
    {
     "data": {
      "text/plain": [
       "<function TextIOWrapper.close()>"
      ]
     },
     "execution_count": 5,
     "metadata": {},
     "output_type": "execute_result"
    }
   ],
   "source": [
    "OR_1_seqs_FT = \\\n",
    "\"\"\"GGGCGACCCUGAUGAGCUUGGUUGAGUAUUUACAGCUCCAUACAUGxxxxxxxxxxxxxxxxxxxxUUCGAUCAGGCGAAACGGUGAAAGCCGUAGGUUGCCC\"\"\"\n",
    "\n",
    "p = subprocess.run(['RNAfold'],\n",
    "                  input=bytes(OR_1_seqs_FT,'ascii'),\n",
    "                  stdout = subprocess.PIPE,\n",
    "                  stderr = subprocess.PIPE)\n",
    "print(\"***This is what I have on command!***\")\n",
    "print(p.stderr.decode())\n",
    "\n",
    "svg_OR_1_FT = p.stdout.decode()\n",
    "print(\"***And my output file***\")\n",
    "print(p.stdout.decode())\n",
    "\n",
    "f1 = open('OR-1_FT.txt','w')\n",
    "f1.write(svg_OR_1_FT)\n",
    "f1.close\n"
   ]
  },
  {
   "cell_type": "code",
   "execution_count": 22,
   "metadata": {},
   "outputs": [
    {
     "data": {
      "image/png": "[encoded data removed]",
      "text/plain": [
       "<wand.image.Image: 955f0c2 'PDF' (339x339)>"
      ]
     },
     "execution_count": 22,
     "metadata": {},
     "output_type": "execute_result"
    }
   ],
   "source": [
    "from wand.image import Image as WImage\n",
    "img = WImage(filename='OR-1_FT.pdf')\n",
    "img"
   ]
  },
  {
   "cell_type": "code",
   "execution_count": 6,
   "metadata": {},
   "outputs": [
    {
     "name": "stdout",
     "output_type": "stream",
     "text": [
      "***This is what I have on command!***\n",
      "\n",
      "***And my output file***\n",
      "GGGCGACCCUGAUGAGCUUGGUUGAG.xxxxxxxxxxxxxxxxxxxxxxxxxxxxxxxxxxxxxxxxUUCGAUCAGGCGAAACGGUGAAAGCCGUAGGUUGCCC\n",
      "((((((((.......((((((((((...........................................))))))))))...(((((....))))).)))))))) (-28.82)\n",
      "\n"
     ]
    },
    {
     "data": {
      "text/plain": [
       "<function TextIOWrapper.close()>"
      ]
     },
     "execution_count": 6,
     "metadata": {},
     "output_type": "execute_result"
    }
   ],
   "source": [
    "OR_1_seqs_TT = \\\n",
    "\"\"\"GGGCGACCCUGAUGAGCUUGGUUGAG.xxxxxxxxxxxxxxxxxxxxxxxxxxxxxxxxxxxxxxxxUUCGAUCAGGCGAAACGGUGAAAGCCGUAGGUUGCCC\"\"\"\n",
    "\n",
    "p = subprocess.run(['RNAfold'],\n",
    "                  input=bytes(OR_1_seqs_TT,'ascii'),\n",
    "                  stdout = subprocess.PIPE,\n",
    "                  stderr = subprocess.PIPE)\n",
    "print(\"***This is what I have on command!***\")\n",
    "print(p.stderr.decode())\n",
    "\n",
    "svg_OR_1_TT = p.stdout.decode()\n",
    "print(\"***And my output file***\")\n",
    "print(p.stdout.decode())\n",
    "\n",
    "f1 = open('OR-1_TT.txt','w')\n",
    "f1.write(svg_OR_1_TT)\n",
    "f1.close"
   ]
  },
  {
   "cell_type": "code",
   "execution_count": 23,
   "metadata": {},
   "outputs": [
    {
     "data": {
      "image/png": "[encoded data removed]",
      "text/plain": [
       "<wand.image.Image: 70b136b 'PDF' (339x339)>"
      ]
     },
     "execution_count": 23,
     "metadata": {},
     "output_type": "execute_result"
    }
   ],
   "source": [
    "from wand.image import Image as WImage\n",
    "img = WImage(filename='OR-1_TT.pdf')\n",
    "img"
   ]
  },
  {
   "cell_type": "markdown",
   "metadata": {},
   "source": [
    "According to your results, do the AND-1 and OR-1 riboswitches work as the paper claims?\n",
    "\n",
    "No, they totally mismatch with each other."
   ]
  }
 ],
 "metadata": {
  "kernelspec": {
   "display_name": "Python 3",
   "language": "python",
   "name": "python3"
  },
  "language_info": {
   "codemirror_mode": {
    "name": "ipython",
    "version": 3
   },
   "file_extension": ".py",
   "mimetype": "text/x-python",
   "name": "python",
   "nbconvert_exporter": "python",
   "pygments_lexer": "ipython3",
   "version": "3.7.3"
  }
 },
 "nbformat": 4,
 "nbformat_minor": 2
}
